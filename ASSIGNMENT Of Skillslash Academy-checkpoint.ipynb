{
 "cells": [
  {
   "cell_type": "markdown",
   "id": "450a986b",
   "metadata": {},
   "source": [
    "# Q1. Write a program that asks the user to enter his / her born year and it prints the year you are born and your age in 2020."
   ]
  },
  {
   "cell_type": "code",
   "execution_count": 4,
   "id": "0eac115b",
   "metadata": {},
   "outputs": [
    {
     "name": "stdout",
     "output_type": "stream",
     "text": [
      "Please enter your born year :1981\n",
      "You are born in 1981 .\n",
      "In the year 2020 , you will be 39 years old.\n"
     ]
    }
   ],
   "source": [
    "n=int(input(\"Please enter your born year :\"))\n",
    "print(\"You are born in\",n,\".\")\n",
    "print(\"In the year 2020 , you will be\",2020-n,\"years old.\")"
   ]
  },
  {
   "cell_type": "markdown",
   "id": "32e00365",
   "metadata": {},
   "source": [
    "# Q2. A certain cinema currently sells tickets for a full price of 6 pounds, but always sells tickets for half price to the people who are less than 16 years old, and for a third of the price for people who are 60 years old or more.\n"
   ]
  },
  {
   "cell_type": "code",
   "execution_count": 17,
   "id": "6ad27410",
   "metadata": {},
   "outputs": [
    {
     "name": "stdout",
     "output_type": "stream",
     "text": [
      "Enter your age : 18\n",
      "Your ticket costs:£ 6.0\n"
     ]
    }
   ],
   "source": [
    "n= int(input(\"Enter your age : \"))\n",
    "c= float(6.00)\n",
    "\n",
    "if n<16 :\n",
    "    d=float(c/2)\n",
    "    print(\"Your ticket costs:£\",d) \n",
    "           \n",
    "elif n>60:\n",
    "        e=float(c/3)\n",
    "        print(\"Your ticket costs:£\",e) \n",
    "\n",
    "else:\n",
    "    print(\"Your ticket costs:£\",c)\n",
    "           \n",
    "    "
   ]
  },
  {
   "cell_type": "markdown",
   "id": "cd06e3b8",
   "metadata": {},
   "source": [
    "# Q3. Print all the even numbers (0,100)"
   ]
  },
  {
   "cell_type": "code",
   "execution_count": 10,
   "id": "52690af5",
   "metadata": {},
   "outputs": [
    {
     "name": "stdout",
     "output_type": "stream",
     "text": [
      "0 2 4 6 8 10 12 14 16 18 20 22 24 26 28 30 32 34 36 38 40 42 44 46 48 50 52 54 56 58 60 62 64 66 68 70 72 74 76 78 80 82 84 86 88 90 92 94 96 98 100 "
     ]
    }
   ],
   "source": [
    "for i in range(0,101,2):\n",
    "\n",
    "        print(i, end=\" \")"
   ]
  },
  {
   "cell_type": "code",
   "execution_count": 7,
   "id": "7f8b530f",
   "metadata": {},
   "outputs": [
    {
     "name": "stdout",
     "output_type": "stream",
     "text": [
      "0 2 4 6 8 10 12 14 16 18 20 22 24 26 28 30 32 34 36 38 40 42 44 46 48 50 52 54 56 58 60 62 64 66 68 70 72 74 76 78 80 82 84 86 88 90 92 94 96 98 100 "
     ]
    }
   ],
   "source": [
    "for i in range(0,101):\n",
    "    if i%2==0:\n",
    "        print(i, end=\" \")"
   ]
  },
  {
   "cell_type": "markdown",
   "id": "b266a677",
   "metadata": {},
   "source": [
    "# Q4. Print all the odd numbers (0,100)\n"
   ]
  },
  {
   "cell_type": "code",
   "execution_count": 11,
   "id": "142fd2ce",
   "metadata": {},
   "outputs": [
    {
     "name": "stdout",
     "output_type": "stream",
     "text": [
      "1 3 5 7 9 11 13 15 17 19 21 23 25 27 29 31 33 35 37 39 41 43 45 47 49 51 53 55 57 59 61 63 65 67 69 71 73 75 77 79 81 83 85 87 89 91 93 95 97 99 "
     ]
    }
   ],
   "source": [
    "for i in range(1,101,2):\n",
    "    \n",
    "        print(i, end=\" \")"
   ]
  },
  {
   "cell_type": "code",
   "execution_count": 8,
   "id": "1aee74ed",
   "metadata": {},
   "outputs": [
    {
     "name": "stdout",
     "output_type": "stream",
     "text": [
      "1 3 5 7 9 11 13 15 17 19 21 23 25 27 29 31 33 35 37 39 41 43 45 47 49 51 53 55 57 59 61 63 65 67 69 71 73 75 77 79 81 83 85 87 89 91 93 95 97 99 "
     ]
    }
   ],
   "source": [
    "for i in range(0,101):\n",
    "    if i%2!=0:\n",
    "        print(i, end=\" \")"
   ]
  },
  {
   "cell_type": "code",
   "execution_count": null,
   "id": "de050740",
   "metadata": {},
   "outputs": [],
   "source": []
  }
 ],
 "metadata": {
  "kernelspec": {
   "display_name": "Python 3 (ipykernel)",
   "language": "python",
   "name": "python3"
  },
  "language_info": {
   "codemirror_mode": {
    "name": "ipython",
    "version": 3
   },
   "file_extension": ".py",
   "mimetype": "text/x-python",
   "name": "python",
   "nbconvert_exporter": "python",
   "pygments_lexer": "ipython3",
   "version": "3.9.7"
  }
 },
 "nbformat": 4,
 "nbformat_minor": 5
}
